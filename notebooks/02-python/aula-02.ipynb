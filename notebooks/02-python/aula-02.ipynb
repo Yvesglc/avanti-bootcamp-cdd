{
 "cells": [
  {
   "cell_type": "markdown",
   "metadata": {},
   "source": [
    "# Aula 2 - Revisão de Python"
   ]
  },
  {
   "cell_type": "markdown",
   "metadata": {},
   "source": [
    "## Reutilização de código(Funções e Módulos)"
   ]
  },
  {
   "cell_type": "markdown",
   "metadata": {},
   "source": [
    "### a) Escreva uma função que receba o nome de uma pessoa como argumento e imprima uma mensagem de saudação."
   ]
  },
  {
   "cell_type": "code",
   "execution_count": 22,
   "metadata": {},
   "outputs": [
    {
     "name": "stdout",
     "output_type": "stream",
     "text": [
      "seja bem vindo(a) \n"
     ]
    }
   ],
   "source": [
    "def saudacao(nome):\n",
    "    print(f\"seja bem vindo(a) {nome}\")\n",
    "\n",
    "saudacao(input(\"Qual seu nome? \"))"
   ]
  },
  {
   "cell_type": "markdown",
   "metadata": {},
   "source": [
    "### b) Implemente um módulo com uma função que verifica se um número é primo."
   ]
  },
  {
   "cell_type": "code",
   "execution_count": 39,
   "metadata": {},
   "outputs": [
    {
     "name": "stdout",
     "output_type": "stream",
     "text": [
      "primo\n"
     ]
    }
   ],
   "source": [
    "from modulo import primo\n",
    "\n",
    "n = int(input(\"Digite um número inteiro positivo para verificar se ele é primo ou não: \"))\n",
    "\n",
    "primo(n)"
   ]
  },
  {
   "cell_type": "markdown",
   "metadata": {},
   "source": [
    "## Coleções(listas, tuplas, conjuntos)"
   ]
  },
  {
   "cell_type": "markdown",
   "metadata": {},
   "source": [
    "### a) crie um programa que crie uma lista de 5 números inteiros e imprima os elementos dessa lista"
   ]
  },
  {
   "cell_type": "code",
   "execution_count": 24,
   "metadata": {},
   "outputs": [
    {
     "name": "stdout",
     "output_type": "stream",
     "text": [
      "[43, 67, 91, 6, 87]\n"
     ]
    }
   ],
   "source": [
    "import random\n",
    "\n",
    "numbers_list = []\n",
    "\n",
    "for i in range(0,5):\n",
    "    number = random.randint(1,100)\n",
    "    numbers_list.append(number)\n",
    "\n",
    "print(numbers_list)"
   ]
  },
  {
   "cell_type": "markdown",
   "metadata": {},
   "source": [
    "### b) Crie uma tupla com o nome de alguns animais, em seguida, peça para o usuário digitar o nome de um animal e verifique se ele está presente na tupla."
   ]
  },
  {
   "cell_type": "code",
   "execution_count": 38,
   "metadata": {},
   "outputs": [
    {
     "name": "stdout",
     "output_type": "stream",
     "text": [
      "O cachorro está presente na Tupla\n"
     ]
    }
   ],
   "source": [
    "animais = (\"coelho, cachorro, dinossauro\")\n",
    "\n",
    "animal_digitado = input(\"Digite o nome de um animal\").lower()\n",
    "\n",
    "if animal_digitado in animais:\n",
    "    print(f'O {animal_digitado} está presente na Tupla')\n",
    "else:\n",
    "    print(f'O {animal_digitado} não está presente na tupla') "
   ]
  },
  {
   "cell_type": "markdown",
   "metadata": {},
   "source": [
    "## Estruturas de Seleção e Repetição."
   ]
  },
  {
   "cell_type": "markdown",
   "metadata": {},
   "source": [
    "### a) Escreva um programa que solicite a idade do usuário e imprima se ele é menor de idade(menor que 18 anos) ou maior de idade."
   ]
  },
  {
   "cell_type": "code",
   "execution_count": 26,
   "metadata": {},
   "outputs": [
    {
     "name": "stdout",
     "output_type": "stream",
     "text": [
      "É maior de idade.\n"
     ]
    }
   ],
   "source": [
    "idade = int(input(\"Digite a idade: \"))\n",
    "\n",
    "if idade >= 18:\n",
    "    print(\"É maior de idade.\")\n",
    "else:\n",
    "    print(\"É menor de idade.\")     "
   ]
  },
  {
   "cell_type": "markdown",
   "metadata": {},
   "source": [
    "### b) crie um programa que peça ao usuário para advinhar um número secreto entre 1 e 100. O programa deve fornecer dicas se o palpite do usuário é maior ou menor que o número secreto até que ele advinhe corretamente."
   ]
  },
  {
   "cell_type": "code",
   "execution_count": 36,
   "metadata": {},
   "outputs": [
    {
     "name": "stdout",
     "output_type": "stream",
     "text": [
      " 50 é menor que o numero secreto, tente novamente.\n",
      " 70 é menor que o numero secreto, tente novamente.\n",
      " 80 é menor que o numero secreto, tente novamente.\n",
      "90, Você acertou!!!\n"
     ]
    }
   ],
   "source": [
    "import random as rd\n",
    "\n",
    "\n",
    "n = rd.randrange(1, 100)\n",
    "palpite = 0\n",
    "\n",
    "while palpite != n :\n",
    "    palpite = int(input(\"Tente adivinhar o número secreto entre 1 e 100, dê seu palpite: \"))\n",
    "    if palpite < n :\n",
    "        print(f\" {palpite} é menor que o número secreto, tente novamente.\")\n",
    "    elif palpite > n :\n",
    "        print(f\"{palpite} é maior que o número secreto, tente novamente\")\n",
    "    else:\n",
    "        print(f\"{palpite}, Você acertou!!!\")"
   ]
  },
  {
   "cell_type": "markdown",
   "metadata": {},
   "source": [
    "## Variáveis e Operadores"
   ]
  },
  {
   "cell_type": "markdown",
   "metadata": {},
   "source": [
    "### a) Crie um programa que leia dois números inteiros e imprima a soma, subtração, multiplicação e divisão entre eles."
   ]
  },
  {
   "cell_type": "code",
   "execution_count": 28,
   "metadata": {},
   "outputs": [
    {
     "name": "stdout",
     "output_type": "stream",
     "text": [
      "40.0 + 25.0 = 65.0.\n",
      "\n",
      "40.0 - 25.0 = 15.0.\n",
      "\n",
      "40.0 * 25.0 =  1000.00.\n",
      "\n",
      "40.0 / 25.0 =  1.60.\n",
      "\n"
     ]
    }
   ],
   "source": [
    "numero1 = float (input (\"Digite o primeiro número: \"))\n",
    "numero2 = float (input (\"Digite o segundo número: \"))\n",
    "\n",
    "soma = numero1 + numero2\n",
    "subtracao = numero1 - numero2\n",
    "multiplicacao = numero1 * numero2\n",
    "divisao = numero1 / numero2\n",
    "\n",
    "print(f\"{numero1} + {numero2} = {soma}.\\n\")\n",
    "print(f\"{numero1} - {numero2} = {subtracao}.\\n\")\n",
    "print(f\"{numero1} * {numero2} = {multiplicacao: .2f}.\\n\")\n",
    "print(f\"{numero1} / {numero2} = {divisao: .2f}.\\n\")"
   ]
  },
  {
   "cell_type": "markdown",
   "metadata": {},
   "source": [
    "### b) Escreva um programa que calcule a área de um círculo, solucitando o raio do usuário."
   ]
  },
  {
   "cell_type": "code",
   "execution_count": 29,
   "metadata": {},
   "outputs": [
    {
     "name": "stdout",
     "output_type": "stream",
     "text": [
      "A área do círculo com raio 5.0 é: 78.50\n"
     ]
    }
   ],
   "source": [
    "raio = float(input(\"Digite o raio do círculo: \"))\n",
    "\n",
    "area_circulo = 3.14 * (raio **2)\n",
    "\n",
    "print(f\"A área do círculo com raio {raio} é: {area_circulo:.2f}\")"
   ]
  }
 ],
 "metadata": {
  "kernelspec": {
   "display_name": "Python 3",
   "language": "python",
   "name": "python3"
  },
  "language_info": {
   "codemirror_mode": {
    "name": "ipython",
    "version": 3
   },
   "file_extension": ".py",
   "mimetype": "text/x-python",
   "name": "python",
   "nbconvert_exporter": "python",
   "pygments_lexer": "ipython3",
   "version": "3.11.5"
  },
  "orig_nbformat": 4
 },
 "nbformat": 4,
 "nbformat_minor": 2
}
